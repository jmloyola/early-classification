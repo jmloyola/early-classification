{
 "cells": [
  {
   "cell_type": "code",
   "execution_count": 1,
   "metadata": {},
   "outputs": [],
   "source": [
    "import sys\n",
    "sys.path.append(\"../src\") # Adds higher directory to python modules path.\n",
    "\n",
    "from early_text_classifier import EarlyTextClassifier\n",
    "import numpy as np\n",
    "import pprint as pp\n",
    "import matplotlib.pyplot as plt\n",
    "import seaborn as sns\n",
    "%matplotlib inline\n",
    "sns.set_context('poster')\n",
    "\n",
    "from sklearn.naive_bayes import MultinomialNB\n",
    "from sklearn.linear_model import LogisticRegression\n",
    "from sklearn.tree import DecisionTreeClassifier\n",
    "from sklearn.metrics import recall_score, accuracy_score, f1_score, precision_score, confusion_matrix,\\\n",
    "    classification_report\n",
    "\n",
    "import warnings\n",
    "warnings.filterwarnings('ignore')"
   ]
  },
  {
   "cell_type": "code",
   "execution_count": 2,
   "metadata": {},
   "outputs": [
    {
     "name": "stdout",
     "output_type": "stream",
     "text": [
      "Model already trained. Loading it.\n"
     ]
    }
   ],
   "source": [
    "etc_kwargs = {'dataset_path': '../dataset/erisk',\n",
    "              'dataset_name': 'erisk-clean-stemmed',\n",
    "              'initial_step': 1,\n",
    "              'step_size': 1}\n",
    "preprocess_kwargs = {'min_word_length': 2,\n",
    "                     'max_number_words': None}\n",
    "cpi_clf = MultinomialNB(alpha=0.5, fit_prior=True)\n",
    "cpi_kwargs = {'train_dataset_percentage': 0.75,\n",
    "              'test_dataset_percentage': 0.25,\n",
    "              'doc_rep': 'term_frec',\n",
    "              'cpi_clf': cpi_clf}\n",
    "context_kwargs = {'number_most_common': 100}\n",
    "\n",
    "dmc_clf = DecisionTreeClassifier(criterion='gini', random_state=0)\n",
    "dmc_kwargs = {'train_dataset_percentage': 0.75,\n",
    "              'test_dataset_percentage': 0.25,\n",
    "              'dmc_clf': dmc_clf}\n",
    "\n",
    "etc = EarlyTextClassifier(etc_kwargs, preprocess_kwargs, cpi_kwargs,\n",
    "                          context_kwargs, dmc_kwargs)"
   ]
  },
  {
   "cell_type": "code",
   "execution_count": 3,
   "metadata": {},
   "outputs": [
    {
     "name": "stdout",
     "output_type": "stream",
     "text": [
      "Dataset name: erisk-clean-stemmed\n",
      "Dataset path: ../dataset/erisk\n",
      "--------------------------------------------------------------------------------\n",
      "Pre-process params:\n",
      "{'max_number_words': None, 'min_word_length': 2}\n",
      "--------------------------------------------------------------------------------\n",
      "CPI params:\n",
      "{'cpi_clf': MultinomialNB(alpha=0.5, class_prior=None, fit_prior=True),\n",
      " 'doc_rep': 'term_frec',\n",
      " 'initial_step': 1,\n",
      " 'step_size': 1,\n",
      " 'test_dataset_percentage': 0.25,\n",
      " 'train_dataset_percentage': 0.75}\n",
      "--------------------------------------------------------------------------------\n",
      "Context Information params:\n",
      "{'initial_step': 1, 'number_most_common': 100, 'step_size': 1}\n",
      "--------------------------------------------------------------------------------\n",
      "DMC params:\n",
      "{'dmc_clf': DecisionTreeClassifier(class_weight=None, criterion='gini', max_depth=None,\n",
      "            max_features=None, max_leaf_nodes=None,\n",
      "            min_impurity_decrease=0.0, min_impurity_split=None,\n",
      "            min_samples_leaf=1, min_samples_split=2,\n",
      "            min_weight_fraction_leaf=0.0, presort=False, random_state=0,\n",
      "            splitter='best'),\n",
      " 'test_dataset_percentage': 0.25,\n",
      " 'train_dataset_percentage': 0.75}\n",
      "--------------------------------------------------------------------------------\n"
     ]
    }
   ],
   "source": [
    "etc.print_params_information()"
   ]
  },
  {
   "cell_type": "code",
   "execution_count": 4,
   "metadata": {},
   "outputs": [
    {
     "name": "stdout",
     "output_type": "stream",
     "text": [
      "Pre-processing dataset\n",
      "Building dictionary\n",
      "8331236  total words  83805  unique words\n",
      "Xtrain.shape: (486, 127325)\n",
      "ytrain.shape: (486,)\n",
      "Xtest.shape: (401, 156935)\n",
      "ytest.shape: (401,)\n",
      "EarlyTextClassifier model already trained\n"
     ]
    }
   ],
   "source": [
    "Xtrain, ytrain, Xtest, ytest = etc.preprocess_dataset()\n",
    "etc.fit(Xtrain, ytrain)"
   ]
  },
  {
   "cell_type": "code",
   "execution_count": 5,
   "metadata": {},
   "outputs": [
    {
     "name": "stdout",
     "output_type": "stream",
     "text": [
      "Predicting with the EarlyTextClassifier model\n",
      "Predicting with PartialInformationClassifier\n",
      "cpi_partial[i]_Xtest_representation.shape: (401, 83806)\n",
      "Generating DecisionClassifier dataset\n",
      "Predicting with DecisionClassifier\n"
     ]
    }
   ],
   "source": [
    "cpi_perc, cpi_pred, dmc_pred, pred_time, dmc_ytest = etc.predict(Xtest, ytest)"
   ]
  },
  {
   "cell_type": "code",
   "execution_count": 6,
   "metadata": {},
   "outputs": [
    {
     "data": {
      "image/png": "[encoded data removed]",
      "text/plain": [
       "<matplotlib.figure.Figure at 0x7fe8fd92c2b0>"
      ]
     },
     "metadata": {},
     "output_type": "display_data"
    }
   ],
   "source": [
    "fig, (ax1, ax2) = plt.subplots(nrows=1, ncols=2, figsize=(15,5))\n",
    "sns.countplot(pred_time, ax=ax1);\n",
    "sns.countplot(pred_time[ytest == 1], ax=ax2);"
   ]
  },
  {
   "cell_type": "code",
   "execution_count": 7,
   "metadata": {},
   "outputs": [
    {
     "data": {
      "image/png": "[encoded data removed]",
      "text/plain": [
       "<matplotlib.figure.Figure at 0x7fe8fd93ed68>"
      ]
     },
     "metadata": {},
     "output_type": "display_data"
    }
   ],
   "source": [
    "y_pred = []\n",
    "num_docs = len(ytest)\n",
    "for i in range(num_docs):\n",
    "    t = pred_time[i]\n",
    "    y_pred.append(cpi_pred[t, i])\n",
    "y_pred = np.array(y_pred)\n",
    "\n",
    "fig, (ax1, ax2) = plt.subplots(nrows=1, ncols=2, figsize=(15,5))\n",
    "sns.countplot(pred_time, ax=ax1);\n",
    "sns.countplot(pred_time[(ytest == 1) & (y_pred == 1)], ax=ax2);"
   ]
  },
  {
   "cell_type": "code",
   "execution_count": 8,
   "metadata": {},
   "outputs": [],
   "source": [
    "def time_penalization(k, penalization_type, time_threshold):\n",
    "    if penalization_type == 'Losada-Crestani':\n",
    "        return 1.0 - ((1.0 + np.exp(k - time_threshold))**(-1))\n",
    "    return 0.0"
   ]
  },
  {
   "cell_type": "code",
   "execution_count": 9,
   "metadata": {},
   "outputs": [
    {
     "data": {
      "text/plain": [
       "0.9999999999861121"
      ]
     },
     "execution_count": 9,
     "metadata": {},
     "output_type": "execute_result"
    }
   ],
   "source": [
    "time_penalization(25, penalization_type='Losada-Crestani', time_threshold=0) * 1.0"
   ]
  },
  {
   "cell_type": "code",
   "execution_count": 10,
   "metadata": {},
   "outputs": [
    {
     "name": "stdout",
     "output_type": "stream",
     "text": [
      "tp: 32\n",
      "fp: 80\n",
      "tn: 269\n",
      "fn: 20\n",
      "[ 0 23  0  3  4  3  2  0  0  1  0  2  0  2  1 25  1  2  0  0  0  3  0  1\n",
      "  0  0  2  2  1  0  2  0]\n",
      "[0 0 0 0 0 0 0 0 0 0 0 0 0 0 0 0 0 0 0 0 0 0 0 0 0 0 0 0 0 0 0 0]\n"
     ]
    }
   ],
   "source": [
    "tp = 0\n",
    "fp = 0\n",
    "tn = 0\n",
    "fn = 0\n",
    "\n",
    "y_pred_prueba = []\n",
    "k_prueba = []\n",
    "for idx in range(num_docs):\n",
    "    if (ytest[idx] == 1) and (y_pred[idx] == 1):\n",
    "        tp += 1\n",
    "        y_pred_prueba.append(y_pred[idx])\n",
    "        k_prueba.append(pred_time[idx])\n",
    "    elif (ytest[idx] == 1) and (y_pred[idx] == 0):\n",
    "        fn += 1\n",
    "    elif (ytest[idx] == 0) and (y_pred[idx] == 1):\n",
    "        fp += 1\n",
    "    elif (ytest[idx] == 0) and (y_pred[idx] == 0):\n",
    "        tn += 1\n",
    "print(f'tp: {tp}')\n",
    "print(f'fp: {fp}')\n",
    "print(f'tn: {tn}')\n",
    "print(f'fn: {fn}')\n",
    "\n",
    "y_pred_prueba = np.array(y_pred_prueba)\n",
    "k_prueba = np.array(k_prueba)\n",
    "y_true_prueba = np.ones_like(y_pred_prueba)\n",
    "error_score = np.zeros_like(y_pred_prueba)\n",
    "print(k_prueba)\n",
    "for j in range(y_true_prueba.size):\n",
    "    error_score[j] = time_penalization(k=k_prueba[j], penalization_type='Losada-Crestani', time_threshold=0) * 1.0\n",
    "print(error_score)"
   ]
  },
  {
   "cell_type": "code",
   "execution_count": 11,
   "metadata": {},
   "outputs": [
    {
     "name": "stdout",
     "output_type": "stream",
     "text": [
      "0.5\n"
     ]
    },
    {
     "data": {
      "image/png": "[encoded data removed]",
      "text/plain": [
       "<matplotlib.figure.Figure at 0x7fe8fde3e5c0>"
      ]
     },
     "metadata": {},
     "output_type": "display_data"
    }
   ],
   "source": [
    "def lc(k, o):\n",
    "    return 1.0 - ((1.0 + np.exp(k - o))**(-1))\n",
    "\n",
    "o = 30\n",
    "k = np.linspace(0, 100, 100)\n",
    "erde = lc(k,o)\n",
    "\n",
    "plt.plot(k, erde)\n",
    "plt.vlines(x=o, ymin=0, ymax=1);\n",
    "\n",
    "print(lc(30,30))"
   ]
  },
  {
   "cell_type": "code",
   "execution_count": 12,
   "metadata": {},
   "outputs": [
    {
     "data": {
      "image/png": "[encoded data removed]",
      "text/plain": [
       "<matplotlib.figure.Figure at 0x7fe8fda29f28>"
      ]
     },
     "metadata": {},
     "output_type": "display_data"
    }
   ],
   "source": [
    "num_steps = len(cpi_perc)\n",
    "x = cpi_perc\n",
    "accuracy_cpi = np.sum(cpi_pred == ytest, axis=1) / ytest.size\n",
    "y_cpi = np.zeros(num_steps)\n",
    "y_dmc = np.zeros(num_steps)\n",
    "for idx in range(num_steps):\n",
    "    y_cpi[idx] = np.sum(cpi_pred[idx] == ytest) / ytest.size\n",
    "    y_dmc[idx] = np.sum(dmc_pred[idx] == dmc_ytest[idx]) / dmc_ytest[idx].size\n",
    "\n",
    "plt.plot(x, y_cpi, label='accuracy cpi model')\n",
    "plt.plot(x, y_dmc, label='accuracy dmc model')\n",
    "plt.legend();"
   ]
  },
  {
   "cell_type": "code",
   "execution_count": 13,
   "metadata": {},
   "outputs": [
    {
     "name": "stdout",
     "output_type": "stream",
     "text": [
      "                    Score ETC                     \n",
      "--------------------------------------------------\n",
      " Precision average=macro: 0.608\n",
      "    Recall average=macro: 0.693\n",
      "F1 Measure average=macro: 0.617\n",
      "                Accuracy: 0.751\n",
      "              ERDE o=50 : 0.0757\n",
      "--------------------------------------------------\n",
      "             precision    recall  f1-score   support\n",
      "\n",
      "   negative       0.93      0.77      0.84       349\n",
      "   positive       0.29      0.62      0.39        52\n",
      "\n",
      "avg / total       0.85      0.75      0.78       401\n",
      "\n",
      "--------------------------------------------------\n",
      "Confusion matrix:\n",
      "array([[269,  80],\n",
      "       [ 20,  32]])\n"
     ]
    }
   ],
   "source": [
    "penalization_type = 'Losada-Crestani'\n",
    "time_threshold = 50\n",
    "costs = {'c_tp': 1.0,\n",
    "         'c_fn': 1.0,\n",
    "         'c_fp': 'proportion_positive_cases'}\n",
    "\n",
    "etc.score(ytest, cpi_pred, cpi_perc, pred_time, penalization_type,\n",
    "          time_threshold, costs);"
   ]
  },
  {
   "cell_type": "code",
   "execution_count": 14,
   "metadata": {
    "scrolled": true
   },
   "outputs": [
    {
     "data": {
      "image/png": "[encoded data removed]",
      "text/plain": [
       "<matplotlib.figure.Figure at 0x7fe8fdc5cc18>"
      ]
     },
     "metadata": {},
     "output_type": "display_data"
    }
   ],
   "source": [
    "penalization_type = 'Losada-Crestani'\n",
    "costs_1 = {'c_tp': 1.0,\n",
    "         'c_fn': 1.0,\n",
    "         'c_fp': 1.0}\n",
    "costs_2 = {'c_tp': 1.0,\n",
    "         'c_fn': 1.0,\n",
    "         'c_fp': 'proportion_positive_cases'}\n",
    "\n",
    "time_threshold = np.linspace(start=1, stop=100, num=100)\n",
    "erde_1 = np.zeros_like(time_threshold)\n",
    "erde_2 = np.zeros_like(time_threshold)\n",
    "for idx, o in enumerate(time_threshold):\n",
    "    erde_1[idx] = etc.score(ytest, cpi_pred, cpi_perc, pred_time, penalization_type, o, costs_1, print_ouput=False)\n",
    "    erde_2[idx] = etc.score(ytest, cpi_pred, cpi_perc, pred_time, penalization_type, o, costs_2, print_ouput=False)\n",
    "\n",
    "plt.plot(time_threshold, erde_1)\n",
    "plt.plot(time_threshold, erde_2);"
   ]
  },
  {
   "cell_type": "code",
   "execution_count": 15,
   "metadata": {},
   "outputs": [
    {
     "data": {
      "text/plain": [
       "2"
      ]
     },
     "execution_count": 15,
     "metadata": {},
     "output_type": "execute_result"
    }
   ],
   "source": [
    "len(etc.unique_labels)"
   ]
  },
  {
   "cell_type": "code",
   "execution_count": 16,
   "metadata": {},
   "outputs": [],
   "source": [
    "etc.save_model()"
   ]
  },
  {
   "cell_type": "code",
   "execution_count": 17,
   "metadata": {},
   "outputs": [],
   "source": [
    "# Lineal model\n",
    "lineal_clf = LogisticRegression(C=2, solver='liblinear', n_jobs=1, random_state=0)\n",
    "\n",
    "lineal_Xtrain = etc.cpi.get_document_representation(Xtrain)\n",
    "lineal_Xtest = etc.cpi.get_document_representation(Xtest)\n",
    "\n",
    "lineal_clf.fit(lineal_Xtrain, ytrain)\n",
    "lineal_y_pred = lineal_clf.predict(lineal_Xtest)"
   ]
  },
  {
   "cell_type": "code",
   "execution_count": 18,
   "metadata": {},
   "outputs": [
    {
     "name": "stdout",
     "output_type": "stream",
     "text": [
      "                    Score ETC                     \n",
      "--------------------------------------------------\n",
      " Precision average=macro: 0.608\n",
      "    Recall average=macro: 0.693\n",
      "F1 Measure average=macro: 0.617\n",
      "                Accuracy: 0.751\n",
      "              ERDE o=50 : 0.0757\n",
      "--------------------------------------------------\n",
      "             precision    recall  f1-score   support\n",
      "\n",
      "   negative       0.93      0.77      0.84       349\n",
      "   positive       0.29      0.62      0.39        52\n",
      "\n",
      "avg / total       0.85      0.75      0.78       401\n",
      "\n",
      "--------------------------------------------------\n",
      "Confusion matrix:\n",
      "array([[269,  80],\n",
      "       [ 20,  32]])\n",
      "--------------------------------------------------\n",
      "--------------------------------------------------\n",
      "                   Score Lineal                   \n",
      "--------------------------------------------------\n",
      " Precision average=macro: 0.747\n",
      "    Recall average=macro: 0.77\n",
      "F1 Measure average=macro: 0.758\n",
      "                Accuracy: 0.885\n",
      "--------------------------------------------------\n",
      "             precision    recall  f1-score   support\n",
      "\n",
      "   negative       0.94      0.93      0.93       349\n",
      "   positive       0.55      0.62      0.58        52\n",
      "\n",
      "avg / total       0.89      0.89      0.89       401\n",
      "\n",
      "--------------------------------------------------\n",
      "Confusion matrix:\n",
      "array([[323,  26],\n",
      "       [ 20,  32]])\n"
     ]
    }
   ],
   "source": [
    "penalization_type = 'Losada-Crestani'\n",
    "time_threshold = 50\n",
    "costs = {'c_tp': 1.0,\n",
    "         'c_fn': 1.0,\n",
    "         'c_fp': 'proportion_positive_cases'}\n",
    "\n",
    "etc.score(ytest, cpi_pred, cpi_perc, pred_time, penalization_type,\n",
    "          time_threshold, costs);\n",
    "\n",
    "print('-'*50)\n",
    "print('-'*50)\n",
    "\n",
    "lineal_precision = precision_score(ytest, lineal_y_pred, average='macro')\n",
    "lineal_recall = recall_score(ytest, lineal_y_pred, average='macro')\n",
    "lineal_f1 = f1_score(ytest, lineal_y_pred, average='macro')\n",
    "lineal_accuracy = accuracy_score(ytest, lineal_y_pred)\n",
    "lineal_confusion_matrix = confusion_matrix(ytest, lineal_y_pred)\n",
    "print(f'{\"Score Lineal\":^50}')\n",
    "print('-'*50)\n",
    "print(f'{\"Precision average=macro:\":>25} {lineal_precision:.3}')\n",
    "print(f'{\"Recall average=macro:\":>25} {lineal_recall:.3}')\n",
    "print(f'{\"F1 Measure average=macro:\":>25} {lineal_f1:.3}')\n",
    "print(f'{\"Accuracy:\":>25} {lineal_accuracy:.3}')\n",
    "print('-' * 50)\n",
    "print(classification_report(ytest, lineal_y_pred, target_names=etc.unique_labels))\n",
    "# The reported averages are a prevalence-weighted macro-average across classes (equivalent to\n",
    "# precision_recall_fscore_support with average='weighted').\n",
    "# 'weighted': Calculate metrics for each label, and find their average, weighted by support (the number of true\n",
    "# instances for each label). This alters ‘macro’ to account for label imbalance; it can result in an F-score\n",
    "# that is not between precision and recall.\n",
    "print('-' * 50)\n",
    "print('Confusion matrix:')\n",
    "pp.pprint(lineal_confusion_matrix)"
   ]
  }
 ],
 "metadata": {
  "kernelspec": {
   "display_name": "Python 3",
   "language": "python",
   "name": "python3"
  },
  "language_info": {
   "codemirror_mode": {
    "name": "ipython",
    "version": 3
   },
   "file_extension": ".py",
   "mimetype": "text/x-python",
   "name": "python",
   "nbconvert_exporter": "python",
   "pygments_lexer": "ipython3",
   "version": "3.6.4"
  }
 },
 "nbformat": 4,
 "nbformat_minor": 2
}
