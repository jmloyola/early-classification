{
 "cells": [
  {
   "cell_type": "code",
   "execution_count": 1,
   "metadata": {},
   "outputs": [],
   "source": [
    "import sys\n",
    "sys.path.append(\"../src\") # Adds higher directory to python modules path.\n",
    "\n",
    "from early_text_classifier import EarlyTextClassifier\n",
    "import numpy as np\n",
    "import matplotlib.pyplot as plt\n",
    "import seaborn as sns\n",
    "%matplotlib inline\n",
    "sns.set_context('poster')\n",
    "\n",
    "from sklearn.naive_bayes import BernoulliNB\n",
    "from sklearn.linear_model import LogisticRegression\n",
    "\n",
    "import warnings\n",
    "warnings.filterwarnings('ignore')"
   ]
  },
  {
   "cell_type": "code",
   "execution_count": 2,
   "metadata": {},
   "outputs": [],
   "source": [
    "etc_kwargs = {'dataset_path': '../dataset/cachopo',\n",
    "              'dataset_name': 'r8-all-terms-clean',\n",
    "              'initial_step': 1,\n",
    "              'step_size': 1}\n",
    "preprocess_kwargs = {'min_word_length': 2,\n",
    "                     'max_number_words': 10000}\n",
    "cpi_clf = BernoulliNB(alpha=1.0, binarize=0.0, fit_prior=False)\n",
    "cpi_kwargs = {'train_dataset_percentage': 0.75,\n",
    "              'test_dataset_percentage': 0.25,\n",
    "              'doc_rep': 'term_frec',\n",
    "              'cpi_clf': cpi_clf}\n",
    "context_kwargs = {'number_most_common': 25}\n",
    "dmc_clf = LogisticRegression(C=2, solver='liblinear', n_jobs=1, random_state=0)\n",
    "dmc_kwargs = {'train_dataset_percentage': 0.75,\n",
    "              'test_dataset_percentage': 0.25,\n",
    "              'dmc_clf': dmc_clf}\n",
    "\n",
    "etc = EarlyTextClassifier(etc_kwargs, preprocess_kwargs, cpi_kwargs,\n",
    "                          context_kwargs, dmc_kwargs)"
   ]
  },
  {
   "cell_type": "code",
   "execution_count": 3,
   "metadata": {},
   "outputs": [
    {
     "name": "stdout",
     "output_type": "stream",
     "text": [
      "Dataset name: r8-all-terms-clean\n",
      "Dataset path: ../dataset/cachopo\n",
      "--------------------------------------------------------------------------------\n",
      "Pre-process params:\n",
      "{'max_number_words': 10000, 'min_word_length': 2}\n",
      "--------------------------------------------------------------------------------\n",
      "CPI params:\n",
      "{'cpi_clf': BernoulliNB(alpha=1.0, binarize=0.0, class_prior=None, fit_prior=False),\n",
      " 'doc_rep': 'term_frec',\n",
      " 'initial_step': 1,\n",
      " 'step_size': 1,\n",
      " 'test_dataset_percentage': 0.25,\n",
      " 'train_dataset_percentage': 0.75}\n",
      "--------------------------------------------------------------------------------\n",
      "Context Information params:\n",
      "{'initial_step': 1, 'number_most_common': 25, 'step_size': 1}\n",
      "--------------------------------------------------------------------------------\n",
      "DMC params:\n",
      "{'dmc_clf': LogisticRegression(C=2, class_weight=None, dual=False, fit_intercept=True,\n",
      "          intercept_scaling=1, max_iter=100, multi_class='ovr', n_jobs=1,\n",
      "          penalty='l2', random_state=0, solver='liblinear', tol=0.0001,\n",
      "          verbose=0, warm_start=False),\n",
      " 'test_dataset_percentage': 0.25,\n",
      " 'train_dataset_percentage': 0.75}\n",
      "--------------------------------------------------------------------------------\n"
     ]
    }
   ],
   "source": [
    "etc.print_params_information()"
   ]
  },
  {
   "cell_type": "code",
   "execution_count": 4,
   "metadata": {},
   "outputs": [
    {
     "name": "stdout",
     "output_type": "stream",
     "text": [
      "Pre-processing dataset\n",
      "Building dictionary\n",
      "555039  total words  19956  unique words\n",
      "Considering only 10000 unique terms\n",
      "Xtrain.shape: (5485, 965)\n",
      "ytrain.shape: (5485,)\n",
      "Xtest.shape: (2189, 842)\n",
      "ytest.shape: (2189,)\n",
      "Training EarlyTextClassifier model\n",
      "Obtaining information from the preprocessed training data\n",
      "Splitting preprocessed dataset for the PartialInformationClassifier\n",
      "cpi_Xtrain.shape: (4113, 965)\n",
      "cpi_ytrain.shape: (4113,)\n",
      "cpi_Xtest.shape: (1372, 965)\n",
      "cpi_ytest.shape: (1372,)\n",
      "Training PartialInformationClassifier\n",
      "cpi_Xtrain_representation.shape: (4113, 10001)\n",
      "Predicting with PartialInformationClassifier\n",
      "cpi_partial[i]_Xtest_representation.shape: (1372, 10001)\n",
      "Generating DecisionClassifier dataset\n",
      "Splitting preprocessed dataset for the DecisionClassifier\n",
      "dmc_Xtrain.shape: (100, 1029, 24)\n",
      "dmc_ytrain.shape: (100, 1029)\n",
      "dmc_Xtest.shape: (100, 343, 24)\n",
      "dmc_ytest.shape: (100, 343)\n",
      "Training PartialInformationClassifier\n",
      "Predicting with DecisionClassifier\n"
     ]
    }
   ],
   "source": [
    "Xtrain, ytrain, Xtest, ytest = etc.preprocess_dataset()\n",
    "etc.fit(Xtrain, ytrain)"
   ]
  },
  {
   "cell_type": "code",
   "execution_count": 5,
   "metadata": {},
   "outputs": [
    {
     "name": "stdout",
     "output_type": "stream",
     "text": [
      "Predicting with the EarlyTextClassifier model\n",
      "Predicting with PartialInformationClassifier\n",
      "cpi_partial[i]_Xtest_representation.shape: (2189, 10001)\n",
      "Generating DecisionClassifier dataset\n",
      "Predicting with DecisionClassifier\n"
     ]
    }
   ],
   "source": [
    "cpi_perc, cpi_pred, dmc_pred, pred_time, dmc_ytest = etc.predict(Xtest, ytest)"
   ]
  },
  {
   "cell_type": "code",
   "execution_count": 6,
   "metadata": {},
   "outputs": [
    {
     "data": {
      "image/png": "[encoded data removed]",
      "text/plain": [
       "<matplotlib.figure.Figure at 0x7fe69f1acdd8>"
      ]
     },
     "metadata": {},
     "output_type": "display_data"
    }
   ],
   "source": [
    "num_steps = len(cpi_perc)\n",
    "x = cpi_perc\n",
    "accuracy_cpi = np.sum(cpi_pred == ytest, axis=1) / ytest.size\n",
    "y_cpi = np.zeros(num_steps)\n",
    "y_dmc = np.zeros(num_steps)\n",
    "for idx in range(num_steps):\n",
    "    y_cpi[idx] = np.sum(cpi_pred[idx] == ytest) / ytest.size\n",
    "    y_dmc[idx] = np.sum(dmc_pred[idx] == dmc_ytest[idx]) / dmc_ytest[idx].size\n",
    "\n",
    "plt.plot(x, y_cpi, label='accuracy cpi model')\n",
    "plt.plot(x, y_dmc, label='accuracy dmc model')\n",
    "plt.legend();"
   ]
  },
  {
   "cell_type": "code",
   "execution_count": 7,
   "metadata": {},
   "outputs": [
    {
     "name": "stdout",
     "output_type": "stream",
     "text": [
      "                    Score ETC                     \n",
      "--------------------------------------------------\n",
      " Precision average=macro: 0.56\n",
      "    Recall average=macro: 0.193\n",
      "F1 Measure average=macro: 0.203\n",
      "                Accuracy: 0.535\n",
      "              ERDE o=30 : 0.476\n",
      "--------------------------------------------------\n",
      "             precision    recall  f1-score   support\n",
      "\n",
      "        acq       0.66      0.06      0.12       696\n",
      "      crude       0.95      0.15      0.26       121\n",
      "       earn       0.52      1.00      0.69      1083\n",
      "      grain       0.00      0.00      0.00        10\n",
      "   interest       1.00      0.05      0.09        81\n",
      "   money-fx       0.65      0.13      0.21        87\n",
      "       ship       0.00      0.00      0.00        36\n",
      "      trade       0.71      0.16      0.26        75\n",
      "\n",
      "avg / total       0.61      0.54      0.41      2189\n",
      "\n",
      "--------------------------------------------------\n",
      "Confusion matrix:\n",
      "array([[  44,    1,  649,    0,    0,    0,    0,    2],\n",
      "       [   5,   18,   98,    0,    0,    0,    0,    0],\n",
      "       [   0,    0, 1083,    0,    0,    0,    0,    0],\n",
      "       [   0,    0,   10,    0,    0,    0,    0,    0],\n",
      "       [   8,    0,   62,    0,    4,    6,    0,    1],\n",
      "       [   2,    0,   73,    0,    0,   11,    0,    1],\n",
      "       [   2,    0,   33,    0,    0,    0,    0,    1],\n",
      "       [   6,    0,   57,    0,    0,    0,    0,   12]])\n"
     ]
    }
   ],
   "source": [
    "penalization_type = 'Losada-Crestani'\n",
    "time_threshold = 30\n",
    "costs = {'c_tp': 1.0,\n",
    "         'c_fn': 1.0,\n",
    "         'c_fp': 1.0}\n",
    "\n",
    "etc.score(ytest, cpi_pred, cpi_perc, pred_time, penalization_type,\n",
    "          time_threshold, costs);"
   ]
  },
  {
   "cell_type": "code",
   "execution_count": 8,
   "metadata": {},
   "outputs": [
    {
     "name": "stdout",
     "output_type": "stream",
     "text": [
      "Saving model\n"
     ]
    }
   ],
   "source": [
    "etc.save_model()"
   ]
  }
 ],
 "metadata": {
  "kernelspec": {
   "display_name": "Python 3",
   "language": "python",
   "name": "python3"
  },
  "language_info": {
   "codemirror_mode": {
    "name": "ipython",
    "version": 3
   },
   "file_extension": ".py",
   "mimetype": "text/x-python",
   "name": "python",
   "nbconvert_exporter": "python",
   "pygments_lexer": "ipython3",
   "version": "3.6.4"
  }
 },
 "nbformat": 4,
 "nbformat_minor": 2
}
