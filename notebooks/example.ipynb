{
 "cells": [
  {
   "cell_type": "code",
   "execution_count": 1,
   "metadata": {},
   "outputs": [],
   "source": [
    "import sys\n",
    "sys.path.append(\"..\") # Adds higher directory to python modules path.\n",
    "\n",
    "from early_text_classifier import EarlyTextClassifier\n",
    "import numpy as np\n",
    "import matplotlib.pyplot as plt\n",
    "import seaborn as sns\n",
    "%matplotlib inline\n",
    "sns.set_context('poster')"
   ]
  },
  {
   "cell_type": "code",
   "execution_count": 2,
   "metadata": {},
   "outputs": [
    {
     "name": "stdout",
     "output_type": "stream",
     "text": [
      "Model already trained. Loading it.\n"
     ]
    }
   ],
   "source": [
    "etc_kwargs = {'dataset_path': '/home/juan/Estudios/Codigo Fuente/earlyClassification/dataset/raw/cachopo',\n",
    "              'dataset_name': 'r8-all-terms-clean',\n",
    "#              'dataset_name': '20ng-stemmed',\n",
    "              'initial_step': 1,\n",
    "              'step_size': 10}\n",
    "preprocess_kwargs = {'min_word_length': 2,\n",
    "                     'max_number_words': 1000}\n",
    "cpi_model_params = dict()\n",
    "cpi_model_params['alpha'] = 1.0\n",
    "cpi_model_params['binarize'] = 0.0\n",
    "cpi_model_params['fit_prior'] = False\n",
    "cpi_kwargs = {'train_dataset_percentage': 0.75,\n",
    "              'test_dataset_percentage': 0.25,\n",
    "              'doc_rep': 'term_frec',\n",
    "              'model_type': 'BernoulliNB',\n",
    "              'cpi_model_params': cpi_model_params}\n",
    "context_kwargs = {'number_most_common': 25}\n",
    "dmc_model_params = dict()\n",
    "dmc_model_params['C'] = 2\n",
    "dmc_model_params['solver'] = 'liblinear'\n",
    "dmc_model_params['n_jobs'] = 1\n",
    "dmc_model_params['random_state'] = 0\n",
    "dmc_kwargs = {'train_dataset_percentage': 0.75,\n",
    "              'test_dataset_percentage': 0.25,\n",
    "              'model_type': 'LogisticRegression',\n",
    "              'dmc_model_params': dmc_model_params}\n",
    "\n",
    "etc = EarlyTextClassifier(etc_kwargs, preprocess_kwargs, cpi_kwargs, context_kwargs, dmc_kwargs)"
   ]
  },
  {
   "cell_type": "code",
   "execution_count": 3,
   "metadata": {},
   "outputs": [
    {
     "name": "stdout",
     "output_type": "stream",
     "text": [
      "Dataset name: r8-all-terms-clean\n",
      "Dataset path: /home/juan/Estudios/Codigo Fuente/earlyClassification/dataset/raw/cachopo\n",
      "--------------------------------------------------------------------------------\n",
      "Pre-process params:\n",
      "{'max_number_words': 1000, 'min_word_length': 2}\n",
      "--------------------------------------------------------------------------------\n",
      "CPI params:\n",
      "{'cpi_model_params': {'alpha': 1.0, 'binarize': 0.0, 'fit_prior': False},\n",
      " 'doc_rep': 'term_frec',\n",
      " 'initial_step': 1,\n",
      " 'model_type': 'BernoulliNB',\n",
      " 'step_size': 10,\n",
      " 'test_dataset_percentage': 0.25,\n",
      " 'train_dataset_percentage': 0.75}\n",
      "--------------------------------------------------------------------------------\n",
      "Context Information params:\n",
      "{'initial_step': 1, 'number_most_common': 25, 'step_size': 10}\n",
      "--------------------------------------------------------------------------------\n",
      "DMC params:\n",
      "{'dmc_model_params': {'C': 2,\n",
      "                      'n_jobs': 1,\n",
      "                      'random_state': 0,\n",
      "                      'solver': 'liblinear'},\n",
      " 'model_type': 'LogisticRegression',\n",
      " 'test_dataset_percentage': 0.25,\n",
      " 'train_dataset_percentage': 0.75}\n",
      "--------------------------------------------------------------------------------\n"
     ]
    }
   ],
   "source": [
    "etc.print_params_information()"
   ]
  },
  {
   "cell_type": "code",
   "execution_count": 4,
   "metadata": {},
   "outputs": [
    {
     "name": "stdout",
     "output_type": "stream",
     "text": [
      "Pre-processing dataset\n",
      "Building dictionary\n",
      "555039  total words  19956  unique words\n",
      "Considering only 1000 unique terms\n",
      "Xtrain.shape: (5485, 965)\n",
      "ytrain.shape: (5485,)\n",
      "Xtest.shape: (2189, 842)\n",
      "ytest.shape: (2189,)\n",
      "EarlyTextClassifier model already trained\n"
     ]
    }
   ],
   "source": [
    "Xtrain, ytrain, Xtest, ytest = etc.preprocess_dataset()\n",
    "etc.fit(Xtrain, ytrain)"
   ]
  },
  {
   "cell_type": "code",
   "execution_count": 5,
   "metadata": {},
   "outputs": [
    {
     "name": "stdout",
     "output_type": "stream",
     "text": [
      "Predicting with the EarlyTextClassifier model\n",
      "Predicting with PartialInformationClassifier\n",
      "cpi_partial[i]_Xtest_representation.shape: (2189, 1001)\n",
      "******************************\n",
      "Accuracy of CPI for each percentage:\n",
      "1 % --> 0.495\n",
      "11 % --> 0.538\n",
      "21 % --> 0.615\n",
      "31 % --> 0.704\n",
      "41 % --> 0.77\n",
      "51 % --> 0.809\n",
      "61 % --> 0.832\n",
      "71 % --> 0.844\n",
      "81 % --> 0.847\n",
      "91 % --> 0.852\n",
      "******************************\n",
      "Generating DecisionClassifier dataset\n",
      "Predicting with DecisionClassifier\n",
      "******************************\n",
      "Accuracy of DMC for each percentage:\n",
      "1 % --> 0.0728\n",
      "11 % --> 0.0558\n",
      "21 % --> 0.0609\n",
      "31 % --> 0.0694\n",
      "41 % --> 0.0755\n",
      "51 % --> 0.0798\n",
      "61 % --> 0.0821\n",
      "71 % --> 0.083\n",
      "81 % --> 0.0831\n",
      "91 % --> 0.0831\n",
      "******************************\n"
     ]
    }
   ],
   "source": [
    "cpi_percentages, cpi_predictions, dmc_prediction, prediction_time, dmc_ytest = etc.predict(Xtest, ytest)"
   ]
  },
  {
   "cell_type": "code",
   "execution_count": 7,
   "metadata": {},
   "outputs": [
    {
     "data": {
      "image/png": "[encoded data removed]",
      "text/plain": [
       "<matplotlib.figure.Figure at 0x7fa01bf1cb00>"
      ]
     },
     "metadata": {},
     "output_type": "display_data"
    }
   ],
   "source": [
    "num_steps = len(cpi_percentages)\n",
    "x = cpi_percentages\n",
    "accuracy_cpi = np.sum(cpi_predictions == ytest, axis=1) / ytest.size\n",
    "y_cpi = np.zeros(num_steps)\n",
    "y_dmc = np.zeros(num_steps)\n",
    "for idx in range(num_steps):\n",
    "    y_cpi[idx] = np.sum(cpi_predictions[idx] == ytest) / ytest.size\n",
    "    y_dmc[idx] = np.sum(dmc_prediction[idx] == dmc_ytest[idx]) / dmc_ytest[idx].size\n",
    "\n",
    "plt.plot(x, y_cpi, label='accuracy cpi model')\n",
    "plt.plot(x, y_dmc, label='accuracy dmc model')\n",
    "plt.legend();"
   ]
  },
  {
   "cell_type": "code",
   "execution_count": 8,
   "metadata": {},
   "outputs": [
    {
     "name": "stdout",
     "output_type": "stream",
     "text": [
      "Score ETC:\n",
      "------------------------------\n",
      "Precision: 0.557\n",
      "Recall: 0.557\n",
      "F1 Measure: 0.557\n",
      "Accuracy: 0.557\n",
      "ERDE o=30: 0.446\n",
      "Confusion matrix:\n",
      "array([[  75,    0,  617,    2,    1,    0,    0,    1],\n",
      "       [   8,   25,   86,    0,    1,    0,    0,    1],\n",
      "       [   4,    0, 1078,    1,    0,    0,    0,    0],\n",
      "       [   0,    0,    7,    0,    1,    0,    2,    0],\n",
      "       [   0,    0,   60,    1,   16,    4,    0,    0],\n",
      "       [   0,    0,   64,    0,   13,   10,    0,    0],\n",
      "       [   1,    0,   27,    0,    5,    0,    3,    0],\n",
      "       [   2,    0,   38,    0,   21,    0,    1,   13]])\n",
      "             precision    recall  f1-score   support\n",
      "\n",
      "        acq       0.83      0.11      0.19       696\n",
      "      crude       1.00      0.21      0.34       121\n",
      "       earn       0.55      1.00      0.70      1083\n",
      "      grain       0.00      0.00      0.00        10\n",
      "   interest       0.28      0.20      0.23        81\n",
      "   money-fx       0.71      0.11      0.20        87\n",
      "       ship       0.50      0.08      0.14        36\n",
      "      trade       0.87      0.17      0.29        75\n",
      "\n",
      "avg / total       0.67      0.56      0.46      2189\n",
      "\n"
     ]
    }
   ],
   "source": [
    "penalization_type = 'Losada-Crestani'\n",
    "time_threshold = 30\n",
    "costs = {'c_tp': 1.0,\n",
    "         'c_fn': 1.0,\n",
    "         'c_fp': 1.0}\n",
    "\n",
    "etc.score(ytest, cpi_predictions, cpi_percentages, prediction_time, penalization_type, time_threshold, costs)"
   ]
  },
  {
   "cell_type": "code",
   "execution_count": 9,
   "metadata": {},
   "outputs": [],
   "source": [
    "etc.save_model()"
   ]
  }
 ],
 "metadata": {
  "kernelspec": {
   "display_name": "Python 3",
   "language": "python",
   "name": "python3"
  },
  "language_info": {
   "codemirror_mode": {
    "name": "ipython",
    "version": 3
   },
   "file_extension": ".py",
   "mimetype": "text/x-python",
   "name": "python",
   "nbconvert_exporter": "python",
   "pygments_lexer": "ipython3",
   "version": "3.6.4"
  }
 },
 "nbformat": 4,
 "nbformat_minor": 2
}
